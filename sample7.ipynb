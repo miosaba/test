{
 "cells": [
  {
   "cell_type": "code",
   "execution_count": 1,
   "metadata": {},
   "outputs": [
    {
     "name": "stdout",
     "output_type": "stream",
     "text": [
      "C:\\Users\\440489.KNOX\\Untitled Folder\n"
     ]
    }
   ],
   "source": [
    "import os\n",
    "print(os.getcwd())#カレントディレクトリを表す文字列を取得"
   ]
  },
  {
   "cell_type": "code",
   "execution_count": 2,
   "metadata": {},
   "outputs": [
    {
     "name": "stdout",
     "output_type": "stream",
     "text": [
      "using os.listdir\n",
      "dir: .ipynb_checkpoints\n",
      "file: diary.txt\n",
      "file: sample.ipynb\n",
      "file: sample2.ipynb\n",
      "file: sample3.ipynb\n",
      "file: sample4.ipynb\n",
      "file: sample5.ipynb\n",
      "file: sample6.ipynb\n",
      "file: sample7.ipynb\n",
      "file: test.txt\n",
      "file: Untitled.ipynb\n",
      "using os.scandir\n",
      "dir: .ipynb_checkpoints\n",
      "file: diary.txt\n",
      "file: sample.ipynb\n",
      "file: sample2.ipynb\n",
      "file: sample3.ipynb\n",
      "file: sample4.ipynb\n",
      "file: sample5.ipynb\n",
      "file: sample6.ipynb\n",
      "file: sample7.ipynb\n",
      "file: test.txt\n",
      "file: Untitled.ipynb\n"
     ]
    }
   ],
   "source": [
    "#カレントディレクトリに含まれるファイルやディレクトリの一覧を取得\n",
    "print('using os.listdir')\n",
    "for name in os.listdir():#ファイルやディレクトリの名前を要素とするリストを返す\n",
    "    if os.path.isfile(name):#ファイルかどうか\n",
    "        print(f'file: {name}')#ファイル表示\n",
    "    else:\n",
    "        print(f'dir: {name}')\n",
    "\n",
    "print('using os.scandir')\n",
    "for entry in os.scandir():\n",
    "    if entry.is_file():#カレントディレクトリにするディレクトリのパス\n",
    "        print(f'file: {entry.name}')\n",
    "    else:\n",
    "        print(f'dir: {entry.name}')"
   ]
  },
  {
   "cell_type": "code",
   "execution_count": 2,
   "metadata": {},
   "outputs": [],
   "source": [
    "file_r=open('sample.txt','r',encoding=\"utf-8_sig\")\n",
    "#エラーを解決するためにencodingを\"utf-8\"から\"utf-8_sig\"にする必要がある\n",
    "file_w=open('sample2.txt','w')\n",
    "for line in file_r:\n",
    "    file_w.write(line)\n",
    "file_r.close()\n",
    "file_w.close()"
   ]
  },
  {
   "cell_type": "code",
   "execution_count": 13,
   "metadata": {},
   "outputs": [],
   "source": [
    "from random import randint\n",
    "\n",
    "def ansers():#正解を作成\n",
    "    anser=list()\n",
    "    for n in range(3):\n",
    "        anser.append(randint(0,9))\n",
    "    return anser\n",
    "          \n",
    "def input_mas():#予想を入力\n",
    "    prediction=list()\n",
    "    for n in range(3):\n",
    "            data=int(input(f'{n+1}桁目の予想入力(0~9)'))\n",
    "            prediction.append(data)\n",
    "    return prediction\n",
    "\n",
    "def Answer_Matching(prediction,anser):#答え合わせ\n",
    "    hit=0\n",
    "    blow=0\n",
    "    ans=True\n",
    "    for n in range(3):#一個目の数字が一致しているか\n",
    "        if prediction[n]==anser[n]:\n",
    "            hit+=1\n",
    "        for m in range(3):#一致ではないが含まれているか\n",
    "            if prediction[n]==anser[m] and n!=m:\n",
    "                blow+=1\n",
    "    print(f'{hit}ヒット{blow}ボール')\n",
    "    if hit==3:\n",
    "        print('正解です')\n",
    "        return False #ループを抜ける\n",
    "    else:\n",
    "        while ans == True:\n",
    "            a=int(input('続けますか 1：はい 2:いいえ>>'))\n",
    "            if a==2 or a==1: #入力が１か２か\n",
    "                if a==2: #続けない場合\n",
    "                    print(f'正解は{anser}でした')\n",
    "                    return False #ループを抜ける\n",
    "                if a==1: #つつける場合\n",
    "                    return True\n",
    "            else: #１か２以外入力した場合\n",
    "                print('もう一度入力してください')\n",
    "            \n",
    "        \n",
    "                \n",
    "            \n"
   ]
  },
  {
   "cell_type": "code",
   "execution_count": 14,
   "metadata": {},
   "outputs": [
    {
     "name": "stdin",
     "output_type": "stream",
     "text": [
      "1桁目の予想入力(0~9) 1\n",
      "2桁目の予想入力(0~9) 2\n",
      "3桁目の予想入力(0~9) 3\n"
     ]
    },
    {
     "name": "stdout",
     "output_type": "stream",
     "text": [
      "1ヒット0ボール\n"
     ]
    },
    {
     "name": "stdin",
     "output_type": "stream",
     "text": [
      "続けますか 1：はい 2:いいえ>> 1\n",
      "1桁目の予想入力(0~9) 3\n",
      "2桁目の予想入力(0~9) 4\n",
      "3桁目の予想入力(0~9) 5\n"
     ]
    },
    {
     "name": "stdout",
     "output_type": "stream",
     "text": [
      "0ヒット0ボール\n"
     ]
    },
    {
     "name": "stdin",
     "output_type": "stream",
     "text": [
      "続けますか 1：はい 2:いいえ>> 3\n"
     ]
    },
    {
     "name": "stdout",
     "output_type": "stream",
     "text": [
      "もう一度入力してください\n"
     ]
    },
    {
     "name": "stdin",
     "output_type": "stream",
     "text": [
      "続けますか 1：はい 2:いいえ>> 1\n",
      "1桁目の予想入力(0~9) 2\n",
      "2桁目の予想入力(0~9) 6\n",
      "3桁目の予想入力(0~9) 7\n"
     ]
    },
    {
     "name": "stdout",
     "output_type": "stream",
     "text": [
      "0ヒット2ボール\n"
     ]
    },
    {
     "name": "stdin",
     "output_type": "stream",
     "text": [
      "続けますか 1：はい 2:いいえ>> 1\n",
      "1桁目の予想入力(0~9) 1\n",
      "2桁目の予想入力(0~9) 7\n",
      "3桁目の予想入力(0~9) 6\n"
     ]
    },
    {
     "name": "stdout",
     "output_type": "stream",
     "text": [
      "0ヒット1ボール\n"
     ]
    },
    {
     "name": "stdin",
     "output_type": "stream",
     "text": [
      "続けますか 1：はい 2:いいえ>> 1\n",
      "1桁目の予想入力(0~9) 6\n",
      "2桁目の予想入力(0~9) 2\n",
      "3桁目の予想入力(0~9) 8\n"
     ]
    },
    {
     "name": "stdout",
     "output_type": "stream",
     "text": [
      "2ヒット0ボール\n"
     ]
    },
    {
     "name": "stdin",
     "output_type": "stream",
     "text": [
      "続けますか 1：はい 2:いいえ>> 1\n",
      "1桁目の予想入力(0~9) 6\n",
      "2桁目の予想入力(0~9) 2\n",
      "3桁目の予想入力(0~9) 9\n"
     ]
    },
    {
     "name": "stdout",
     "output_type": "stream",
     "text": [
      "1ヒット0ボール\n"
     ]
    },
    {
     "name": "stdin",
     "output_type": "stream",
     "text": [
      "続けますか 1：はい 2:いいえ>> 1\n",
      "1桁目の予想入力(0~9) 7\n",
      "2桁目の予想入力(0~9) 2\n",
      "3桁目の予想入力(0~9) 5\n"
     ]
    },
    {
     "name": "stdout",
     "output_type": "stream",
     "text": [
      "2ヒット0ボール\n"
     ]
    },
    {
     "name": "stdin",
     "output_type": "stream",
     "text": [
      "続けますか 1：はい 2:いいえ>> 1\n",
      "1桁目の予想入力(0~9) 7\n",
      "2桁目の予想入力(0~9) 2\n",
      "3桁目の予想入力(0~9) 9\n"
     ]
    },
    {
     "name": "stdout",
     "output_type": "stream",
     "text": [
      "2ヒット0ボール\n"
     ]
    },
    {
     "name": "stdin",
     "output_type": "stream",
     "text": [
      "続けますか 1：はい 2:いいえ>> 1\n",
      "1桁目の予想入力(0~9) 7\n",
      "2桁目の予想入力(0~9) 2\n",
      "3桁目の予想入力(0~9) 8\n"
     ]
    },
    {
     "name": "stdout",
     "output_type": "stream",
     "text": [
      "3ヒット0ボール\n",
      "正解です\n"
     ]
    }
   ],
   "source": [
    "def main():#メイン処理\n",
    "    anser=ansers()#答えの作成\n",
    "    is_countinue=True\n",
    "    while is_countinue==True:#正解までループ\n",
    "        prediction=input_mas()#予想入力\n",
    "        is_countinue=Answer_Matching(prediction,anser)#答え\n",
    "main() "
   ]
  },
  {
   "cell_type": "code",
   "execution_count": null,
   "metadata": {},
   "outputs": [],
   "source": []
  }
 ],
 "metadata": {
  "kernelspec": {
   "display_name": "Python 3",
   "language": "python",
   "name": "python3"
  },
  "language_info": {
   "codemirror_mode": {
    "name": "ipython",
    "version": 3
   },
   "file_extension": ".py",
   "mimetype": "text/x-python",
   "name": "python",
   "nbconvert_exporter": "python",
   "pygments_lexer": "ipython3",
   "version": "3.7.6"
  }
 },
 "nbformat": 4,
 "nbformat_minor": 4
}
